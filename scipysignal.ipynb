{
  "nbformat": 4,
  "nbformat_minor": 0,
  "metadata": {
    "kernelspec": {
      "display_name": "Python 3",
      "language": "python",
      "name": "python3"
    },
    "language_info": {
      "codemirror_mode": {
        "name": "ipython",
        "version": 3
      },
      "file_extension": ".py",
      "mimetype": "text/x-python",
      "name": "python",
      "nbconvert_exporter": "python",
      "pygments_lexer": "ipython3",
      "version": "3.6.10"
    },
    "colab": {
      "name": "scipysignal.ipynb",
      "provenance": [],
      "collapsed_sections": [],
      "include_colab_link": true
    }
  },
  "cells": [
    {
      "cell_type": "markdown",
      "metadata": {
        "id": "view-in-github",
        "colab_type": "text"
      },
      "source": [
        "<a href=\"https://colab.research.google.com/github/bwilfley/controlsystems/blob/master/scipysignal.ipynb\" target=\"_parent\"><img src=\"https://colab.research.google.com/assets/colab-badge.svg\" alt=\"Open In Colab\"/></a>"
      ]
    },
    {
      "cell_type": "markdown",
      "metadata": {
        "id": "sCBXnfo6E2Fk",
        "colab_type": "text"
      },
      "source": [
        "This is a reproduction of the work book in the video: https://www.youtube.com/watch?v=AmYWJnPnjY8\n",
        "\n",
        "In particular it uses scipy signal"
      ]
    },
    {
      "cell_type": "code",
      "metadata": {
        "id": "QEKOHHMmE2Fl",
        "colab_type": "code",
        "colab": {}
      },
      "source": [
        "import numpy as np\n",
        "from scipy import signal\n",
        "%matplotlib inline\n",
        "import matplotlib.pyplot as plt"
      ],
      "execution_count": 0,
      "outputs": []
    },
    {
      "cell_type": "code",
      "metadata": {
        "id": "4Pqml1cuE2Fn",
        "colab_type": "code",
        "outputId": "24a67c58-bc12-4dfd-86eb-d599688d6bfc",
        "colab": {
          "base_uri": "https://localhost:8080/",
          "height": 282
        }
      },
      "source": [
        "# problem 1\n",
        "A = -4.0\n",
        "B = 2.0\n",
        "C = 1.0\n",
        "D = 0.0\n",
        "\n",
        "sys1 = signal.StateSpace(A,B,C,D)\n",
        "t1,y1 = signal.step(sys1)\n",
        "\n",
        "plt.plot(t1,y1)"
      ],
      "execution_count": 0,
      "outputs": [
        {
          "output_type": "execute_result",
          "data": {
            "text/plain": [
              "[<matplotlib.lines.Line2D at 0x7f8d3b097908>]"
            ]
          },
          "metadata": {
            "tags": []
          },
          "execution_count": 2
        },
        {
          "output_type": "display_data",
          "data": {
            "image/png": "[encoded data removed]",
            "text/plain": [
              "<Figure size 432x288 with 1 Axes>"
            ]
          },
          "metadata": {
            "tags": [],
            "needs_background": "light"
          }
        }
      ]
    },
    {
      "cell_type": "code",
      "metadata": {
        "id": "WDqgCC6sE2Fq",
        "colab_type": "code",
        "outputId": "8d9cae4f-f288-46d7-af9e-d13d2d66a05d",
        "colab": {
          "base_uri": "https://localhost:8080/",
          "height": 282
        }
      },
      "source": [
        "# problem 2\n",
        "A = [[-3.0,0.0],[-2.0,-3.0]]\n",
        "B = [[4.0],[0.0]]\n",
        "C = [0.5,0.5]\n",
        "D = 0.0\n",
        "\n",
        "sys2 = signal.StateSpace(A,B,C,D)\n",
        "t2,y2 = signal.step(sys2)\n",
        "\n",
        "plt.plot(t2,y2)"
      ],
      "execution_count": 0,
      "outputs": [
        {
          "output_type": "execute_result",
          "data": {
            "text/plain": [
              "[<matplotlib.lines.Line2D at 0x7f8d3b023eb8>]"
            ]
          },
          "metadata": {
            "tags": []
          },
          "execution_count": 3
        },
        {
          "output_type": "display_data",
          "data": {
            "image/png": "[encoded data removed]",
            "text/plain": [
              "<Figure size 432x288 with 1 Axes>"
            ]
          },
          "metadata": {
            "tags": [],
            "needs_background": "light"
          }
        }
      ]
    },
    {
      "cell_type": "code",
      "metadata": {
        "id": "70N-sDcIE2Fs",
        "colab_type": "code",
        "outputId": "52686cbc-89cf-41d8-ea31-123d77ca0cf7",
        "colab": {
          "base_uri": "https://localhost:8080/",
          "height": 299
        }
      },
      "source": [
        "# problem 3\n",
        "A = [[0.0,1.0],[-0.25,-0.5]]\n",
        "print(np.linalg.eig(A)[0])\n",
        "B = [[0.0],[0.75]]\n",
        "C = [1.0,0.0]\n",
        "D = [0.0]\n",
        "\n",
        "sys3 = signal.StateSpace(A,B,C,D)\n",
        "t3,y3 = signal.step(sys3)\n",
        "\n",
        "plt.plot(t3,y3)"
      ],
      "execution_count": 0,
      "outputs": [
        {
          "output_type": "stream",
          "text": [
            "[-0.25+0.4330127j -0.25-0.4330127j]\n"
          ],
          "name": "stdout"
        },
        {
          "output_type": "execute_result",
          "data": {
            "text/plain": [
              "[<matplotlib.lines.Line2D at 0x7f8d3ab58b70>]"
            ]
          },
          "metadata": {
            "tags": []
          },
          "execution_count": 4
        },
        {
          "output_type": "display_data",
          "data": {
            "image/png": "[encoded data removed]",
            "text/plain": [
              "<Figure size 432x288 with 1 Axes>"
            ]
          },
          "metadata": {
            "tags": [],
            "needs_background": "light"
          }
        }
      ]
    }
  ]
}